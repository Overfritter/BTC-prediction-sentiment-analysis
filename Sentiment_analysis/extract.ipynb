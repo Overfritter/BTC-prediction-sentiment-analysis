{
 "cells": [
  {
   "cell_type": "code",
   "execution_count": 2,
   "metadata": {},
   "outputs": [],
   "source": [
    "import pandas as pd\n",
    "import os\n",
    "import time\n",
    "import json\n",
    "import math\n",
    "import numpy\n",
    "import matplotlib.pyplot as plt"
   ]
  },
  {
   "cell_type": "code",
   "execution_count": null,
   "metadata": {},
   "outputs": [],
   "source": [
    "#read in the results, do not open in Excel. Saving in Excel will delete the results as they are appended to the end of the file but Excel has a max of rows, which is exceeded here.\n",
    "df = pd.read_csv('results_gptmini_16M.csv')\n",
    "df.info()"
   ]
  },
  {
   "cell_type": "code",
   "execution_count": 15,
   "metadata": {},
   "outputs": [],
   "source": [
    "df_text = df.dropna(subset=['Unnamed: 0.1', 'Unnamed: 0', 'Date', 'text', 'Sentiment'])\n",
    "df_sentiment = df.dropna(subset=['line_id', 'content'])"
   ]
  },
  {
   "cell_type": "code",
   "execution_count": 16,
   "metadata": {},
   "outputs": [],
   "source": [
    "df_text = df_text.reset_index(drop=True)\n",
    "df_sentiment = df_sentiment.reset_index(drop=True)"
   ]
  },
  {
   "cell_type": "code",
   "execution_count": null,
   "metadata": {},
   "outputs": [],
   "source": [
    "#place the results to the corresponding tweet, as the results were appended in order below the tweets\n",
    "result_df = pd.concat([df_text, df_sentiment[['line_id', 'content']]], axis=1)\n",
    "result_df"
   ]
  },
  {
   "cell_type": "code",
   "execution_count": null,
   "metadata": {},
   "outputs": [],
   "source": [
    "#Remove the last 2088 rows as the last batch failed and there are no scores available.\n",
    "result_df = result_df[:1080200]\n",
    "result_df"
   ]
  },
  {
   "cell_type": "code",
   "execution_count": null,
   "metadata": {},
   "outputs": [],
   "source": [
    "result_df.columns = ['Unnamed: 0.1', 'Unnamed: 0', 'Date', 'text', 'Sentiment', 'line_id1', 'content1', 'line_id2', 'content2']\n",
    "result_df"
   ]
  },
  {
   "cell_type": "code",
   "execution_count": null,
   "metadata": {},
   "outputs": [],
   "source": [
    "results_df = result_df.drop(columns=['line_id1', 'content1'])"
   ]
  },
  {
   "cell_type": "code",
   "execution_count": null,
   "metadata": {},
   "outputs": [],
   "source": [
    "#change all the rows from the content column to 0.0 if it does not start with '0.'\n",
    "#result_df['content'] = result_df['content'].astype(str)\n",
    "\n",
    "#result_df.loc[~result_df['content'].str.startswith('0.', na=False), 'content'] = '0.0'\n",
    "\n",
    "# Convert the 'content' column to float\n",
    "result_df['content2'] = result_df['content2'].apply(pd.to_numeric, errors='coerce').fillna(0.0)\n",
    "\n",
    "result_df"
   ]
  },
  {
   "cell_type": "code",
   "execution_count": null,
   "metadata": {},
   "outputs": [],
   "source": [
    "#from the polarity score, create a sentiment score (1, 0, -1)\n",
    "def floor_ceil(value):\n",
    "    if value < 0.0:\n",
    "        return math.floor(value)\n",
    "    elif value > 0.0:\n",
    "        return math.ceil(value)\n",
    "    else:\n",
    "        return value\n",
    "\n",
    "#Transform GPT polarity score to sentiment score\n",
    "result_df['simple_score'] = result_df['content2'].apply(floor_ceil)\n",
    "result_df"
   ]
  },
  {
   "cell_type": "code",
   "execution_count": null,
   "metadata": {},
   "outputs": [],
   "source": [
    "#check how many positive, neutral and negative tweets there are\n",
    "result_df['simple_score'].value_counts()"
   ]
  },
  {
   "cell_type": "code",
   "execution_count": 3,
   "metadata": {},
   "outputs": [],
   "source": [
    "df_manual = pd.read_csv('bitcoin_1000_random1.csv')"
   ]
  },
  {
   "cell_type": "code",
   "execution_count": 4,
   "metadata": {},
   "outputs": [
    {
     "data": {
      "image/png": "[encoded data removed]",
      "text/plain": [
       "<Figure size 640x480 with 1 Axes>"
      ]
     },
     "metadata": {},
     "output_type": "display_data"
    }
   ],
   "source": [
    "#A pie chart of the positive, neutral and negative tweets\n",
    "df_manual['sentiment'].value_counts().plot(kind='pie', autopct='%1.1f%%')\n",
    "plt.title('Tweet sentiment representation, manual classification')\n",
    "plt.show()"
   ]
  },
  {
   "cell_type": "code",
   "execution_count": null,
   "metadata": {},
   "outputs": [],
   "source": [
    "#Aggregate the scores by date\n",
    "aggregate_df = result_df.groupby('Date').agg({'content2': 'sum', 'simple_score': 'sum'}).reset_index()\n",
    "aggregate_df"
   ]
  },
  {
   "cell_type": "code",
   "execution_count": null,
   "metadata": {},
   "outputs": [],
   "source": [
    "#Make normalized scores as some days have more tweets than others\n",
    "aggregate_df['normalized_score'] = result_df.groupby('Date')['content2'].transform('mean')\n",
    "aggregate_df['normalized_simple_score'] = result_df.groupby('Date')['simple_score'].transform('mean')\n",
    "aggregate_df"
   ]
  },
  {
   "cell_type": "code",
   "execution_count": null,
   "metadata": {},
   "outputs": [],
   "source": [
    "aggregate_df['date_count'] = result_df.groupby('Date')['Date'].transform('count')\n",
    "aggregate_df"
   ]
  },
  {
   "cell_type": "code",
   "execution_count": null,
   "metadata": {},
   "outputs": [],
   "source": [
    "unwanted_col = ['normalized_score', 'normalized_simple_score', 'date_count']\n",
    "aggregate_df.drop(unwanted_col, axis=1)"
   ]
  },
  {
   "cell_type": "code",
   "execution_count": 54,
   "metadata": {},
   "outputs": [],
   "source": [
    "#date_counts.to_csv('date_counts_16M.csv')"
   ]
  },
  {
   "cell_type": "code",
   "execution_count": null,
   "metadata": {},
   "outputs": [],
   "source": [
    "date_counts = pd.read_csv('date_counts_16M.csv')\n",
    "date_counts"
   ]
  },
  {
   "cell_type": "code",
   "execution_count": null,
   "metadata": {},
   "outputs": [],
   "source": [
    "date_counts = pd.read_csv('date_counts_16M.csv')\n",
    "aggregate_df = pd.merge(aggregate_df, date_counts, on='Date', how='left')\n",
    "aggregate_df"
   ]
  },
  {
   "cell_type": "code",
   "execution_count": null,
   "metadata": {},
   "outputs": [],
   "source": [
    "unwanted_cols = ['Unnamed: 0_x', 'Unnamed: 0_y', 'count_x']\n",
    "aggregate_df.drop(unwanted_cols, axis=1)\n",
    "aggregate_df"
   ]
  },
  {
   "cell_type": "code",
   "execution_count": null,
   "metadata": {},
   "outputs": [],
   "source": [
    "#normalize the scores by dividing the content2 column by the date count column\n",
    "#the aggregated data already contains the the amount of tweets per day (column 'count_y')\n",
    "aggregate_df['normalized_score'] = aggregate_df['content2'] / aggregate_df['count_y']\n",
    "aggregate_df"
   ]
  },
  {
   "cell_type": "code",
   "execution_count": 79,
   "metadata": {},
   "outputs": [],
   "source": [
    "prices = pd.read_csv('BTC-USD_2016-2019.csv')"
   ]
  },
  {
   "cell_type": "code",
   "execution_count": null,
   "metadata": {},
   "outputs": [],
   "source": [
    "#Merge the aggregated dataframe with the price dataframe\n",
    "prices = pd.merge(prices, aggregate_df, on='Date', how='left')\n",
    "prices"
   ]
  },
  {
   "cell_type": "code",
   "execution_count": null,
   "metadata": {},
   "outputs": [],
   "source": [
    "unwanted_col = ['Open', 'High', 'Low', 'Adj Close', 'Unnamed: 0_x', 'Unnamed: 0_y', 'count_x']\n",
    "prices = prices.drop(unwanted_col, axis=1)\n",
    "prices"
   ]
  },
  {
   "cell_type": "code",
   "execution_count": 3,
   "metadata": {},
   "outputs": [],
   "source": [
    "prices2 = pd.read_csv('Merged_dataset_16M.csv')"
   ]
  },
  {
   "cell_type": "code",
   "execution_count": null,
   "metadata": {},
   "outputs": [],
   "source": [
    "#name the index column 'id'\n",
    "prices.index.name = 'id'\n",
    "prices"
   ]
  },
  {
   "cell_type": "code",
   "execution_count": 14,
   "metadata": {},
   "outputs": [],
   "source": [
    "#create a column with previous day volumes and different lags for the sentiment scores\n",
    "previous_volume = prices['Volume'].shift(1)\n",
    "prices['previous_volume'] = previous_volume\n",
    "prices['previous_day_simple_sentiment'] = prices['simple_score'].shift(1)\n",
    "prices['previous_3day_simple_sentiment'] = prices['simple_score'].shift(3)\n",
    "prices['previous_5day_simple_sentiment'] = prices['simple_score'].shift(5)\n",
    "prices['previous_7day_simple_sentiment'] = prices['simple_score'].shift(7)\n",
    "prices['previous_10day_simple_sentiment'] = prices['simple_score'].shift(10)\n",
    "\n",
    "#prices['normalized_sent_score'] = aggregate_df['simple_score'] / aggregate_df['count_y']"
   ]
  },
  {
   "cell_type": "code",
   "execution_count": null,
   "metadata": {},
   "outputs": [],
   "source": [
    "#add lagged versions of the gpt-polarity score\n",
    "prices['previous_day_sentiment'] = prices['normalized_score'].shift(1)\n",
    "prices['previous_3day_sentiment'] = prices['normalized_score'].shift(3)\n",
    "prices['previous_5day_sentiment'] = prices['normalized_score'].shift(5)\n",
    "prices['previous_7day_sentiment'] = prices['normalized_score'].shift(7)\n",
    "prices['previous_10day_sentiment'] = prices['normalized_score'].shift(10)"
   ]
  },
  {
   "cell_type": "code",
   "execution_count": null,
   "metadata": {},
   "outputs": [],
   "source": [
    "#read in the VADER scores\n",
    "vader_df = pd.read_csv('VADER_scores_cleaned_16M.csv')\n",
    "vader_df"
   ]
  },
  {
   "cell_type": "code",
   "execution_count": 3,
   "metadata": {},
   "outputs": [],
   "source": [
    "#name first column 'id'\n",
    "vader_df.index.name = 'id'"
   ]
  },
  {
   "cell_type": "code",
   "execution_count": null,
   "metadata": {},
   "outputs": [],
   "source": [
    "unwanted_columns = ['Unnamed: 0.2', 'Unnamed: 0.1', 'Unnamed: 0', 'text', 'Sentiment', 'cleanText']\n",
    "vader_df.drop(unwanted_columns, axis=1, inplace=True)\n",
    "vader_df"
   ]
  },
  {
   "cell_type": "code",
   "execution_count": null,
   "metadata": {},
   "outputs": [],
   "source": [
    "#aggregate the VADER scores per date\n",
    "aggregated_vader_df = vader_df.groupby('Date').agg({'sentiment_score': 'sum'}).reset_index()\n",
    "aggregated_vader_df"
   ]
  },
  {
   "cell_type": "code",
   "execution_count": null,
   "metadata": {},
   "outputs": [],
   "source": [
    "#Add VADER scores to merged dataframe\n",
    "prices = pd.merge(prices, aggregated_vader_df, on='Date', how='left')\n",
    "prices"
   ]
  },
  {
   "cell_type": "code",
   "execution_count": null,
   "metadata": {},
   "outputs": [],
   "source": [
    "prices.rename(columns={'sentiment_score': 'VADER_sentiment'}, inplace=True)\n",
    "prices.head()"
   ]
  },
  {
   "cell_type": "code",
   "execution_count": null,
   "metadata": {},
   "outputs": [],
   "source": [
    "#Add normalised VADER scores\n",
    "prices['VADER_norm'] = prices['VADER_sentiment'] / prices['count_y']"
   ]
  },
  {
   "cell_type": "code",
   "execution_count": null,
   "metadata": {},
   "outputs": [],
   "source": [
    "#Add lagged versions of the VADER scores and its normalised version\n",
    "prices['VADER_1'] = prices['VADER_sentiment'].shift(1)\n",
    "prices['VADER_3'] = prices['VADER_sentiment'].shift(3)\n",
    "prices['VADER_5'] = prices['VADER_sentiment'].shift(5)\n",
    "prices['VADER_7'] = prices['VADER_sentiment'].shift(7)\n",
    "prices['VADER_10'] = prices['VADER_sentiment'].shift(10)\n",
    "\n",
    "prices['VADER_norm1'] = prices['VADER_norm'].shift(1)\n",
    "prices['VADER_norm3'] = prices['VADER_norm'].shift(3)\n",
    "prices['VADER_norm5'] = prices['VADER_norm'].shift(5)\n",
    "prices['VADER_norm7'] = prices['VADER_norm'].shift(7)\n",
    "prices['VADER_norm10'] = prices['VADER_norm'].shift(10)"
   ]
  },
  {
   "cell_type": "code",
   "execution_count": 16,
   "metadata": {},
   "outputs": [],
   "source": [
    "prices.to_csv('merged_dataset_additional_features.csv')"
   ]
  }
 ],
 "metadata": {
  "kernelspec": {
   "display_name": "Python 3",
   "language": "python",
   "name": "python3"
  },
  "language_info": {
   "codemirror_mode": {
    "name": "ipython",
    "version": 3
   },
   "file_extension": ".py",
   "mimetype": "text/x-python",
   "name": "python",
   "nbconvert_exporter": "python",
   "pygments_lexer": "ipython3",
   "version": "3.10.11"
  }
 },
 "nbformat": 4,
 "nbformat_minor": 2
}
